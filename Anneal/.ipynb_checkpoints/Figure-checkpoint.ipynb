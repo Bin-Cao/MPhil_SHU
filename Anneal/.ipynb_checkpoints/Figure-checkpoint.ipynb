{
 "cells": [
  {
   "cell_type": "code",
   "execution_count": 1,
   "id": "5ced49b4",
   "metadata": {},
   "outputs": [],
   "source": [
    "import numpy as np\n",
    "import matplotlib.pyplot as plt"
   ]
  },
  {
   "cell_type": "code",
   "execution_count": null,
   "id": "bcfa6212",
   "metadata": {},
   "outputs": [],
   "source": [
    "def normal_density( x, mu, sigma2):\n",
    "    \"\"\"\n",
    "    :param x: sample data (2theta)\n",
    "    :param mu: mean (μi)\n",
    "    :param sigma2: variance (σi^2)\n",
    "    :return: Return the probability density of Normal distribution x~N(μi,σi^2)\n",
    "    \"\"\"\n",
    "    density = (1 / np.sqrt(2 * np.pi * sigma2)) * np.exp(-((x - mu) ** 2) / (2 * sigma2))\n",
    "    return density\n",
    "\n",
    "# Lorenz distribution\n",
    "def lorenz_density( x, mu, gamma):\n",
    "    \"\"\"\n",
    "    :param x: sample data (2theta)\n",
    "    :param mu: mean (μi)\n",
    "    :param gamma: FWHM of Lorenz distribution\n",
    "    :return: Return the probability density of Lorenz distribution\n",
    "    \"\"\"\n",
    "    density = (1 / np.pi) * (gamma / ((x - mu) ** 2 + gamma ** 2))\n",
    "    return density"
   ]
  },
  {
   "cell_type": "code",
   "execution_count": null,
   "id": "a313b0a5",
   "metadata": {},
   "outputs": [],
   "source": [
    "x = np.linspace(30, 44, 1000)\n",
    "\n",
    "y = w_l * lorenz_density(x, mu, gamma) + w_g * normal_density(x, mu, sigma2)\n",
    "# 绘制曲线\n",
    "plt.plot(x, y)\n",
    "\n",
    "# 显示图形\n",
    "plt.show()"
   ]
  }
 ],
 "metadata": {
  "kernelspec": {
   "display_name": "Python 3 (ipykernel)",
   "language": "python",
   "name": "python3"
  },
  "language_info": {
   "codemirror_mode": {
    "name": "ipython",
    "version": 3
   },
   "file_extension": ".py",
   "mimetype": "text/x-python",
   "name": "python",
   "nbconvert_exporter": "python",
   "pygments_lexer": "ipython3",
   "version": "3.9.12"
  }
 },
 "nbformat": 4,
 "nbformat_minor": 5
}
